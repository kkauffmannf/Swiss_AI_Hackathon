{
 "cells": [
  {
   "cell_type": "code",
   "execution_count": 5,
   "id": "adcef6ab-c374-48d2-8dea-a8895b3f6c77",
   "metadata": {},
   "outputs": [],
   "source": [
    "import pandas as pd\n",
    "import numpy as np\n",
    "import seaborn as sns\n",
    "import datetime\n",
    "\n",
    "from openeew.data.aws import AwsDataClient\n",
    "from openeew.data.df import get_df_from_records\n",
    "\n",
    "# When importing pandas profiling matplotlib cannot show plots\n",
    "# solved by importing matplotlib \n",
    "# after pandas_profiling and adding the magic command. \n",
    "# Magic command is required otherwise nothing is displayed:\n",
    "\n",
    "import matplotlib.pyplot as plt\n",
    "%matplotlib inline\n"
   ]
  },
  {
   "cell_type": "code",
   "execution_count": 6,
   "id": "6c0cda06-6384-4164-962d-0ec2932e86e3",
   "metadata": {},
   "outputs": [],
   "source": [
    "data_client = AwsDataClient('cl')"
   ]
  },
  {
   "cell_type": "code",
   "execution_count": 7,
   "id": "1e96ad91-88c8-445c-8b7f-8f4d8d313ff5",
   "metadata": {},
   "outputs": [],
   "source": [
    "devices = data_client.get_current_devices()"
   ]
  },
  {
   "cell_type": "code",
   "execution_count": 48,
   "id": "a00dd98e-e63b-4527-83bf-3ade103c135f",
   "metadata": {},
   "outputs": [],
   "source": [
    "# Get earthquake location and datetime\n",
    "# I chose one that occured in 2020\n",
    "\n",
    "eq = {\n",
    "    'latitude': -27.969,\n",
    "    'longitude': -71.241,\n",
    "    'date_utc': '2020-09-01 00:09:00'\n",
    "    }"
   ]
  },
  {
   "cell_type": "code",
   "execution_count": 35,
   "id": "126e81a6-151d-414b-bbb3-1cafc758f15e",
   "metadata": {},
   "outputs": [],
   "source": [
    "start_date_utc = '2020-08-31 23:50:00'\n",
    "end_date_utc = '2020-09-01 02:00:00'"
   ]
  },
  {
   "cell_type": "code",
   "execution_count": 36,
   "id": "fa9f5df0-2a3b-4849-aaa0-ea0c9212c6f2",
   "metadata": {},
   "outputs": [],
   "source": [
    "# Allow nested asyncio event loop\n",
    "# See https://github.com/erdewit/nest_asyncio\n",
    "import nest_asyncio\n",
    "nest_asyncio.apply() "
   ]
  },
  {
   "cell_type": "code",
   "execution_count": 37,
   "id": "08155336-52c3-4083-a8ca-5be18a5b86a3",
   "metadata": {},
   "outputs": [],
   "source": [
    "records = data_client.get_filtered_records(start_date_utc, end_date_utc, device_ids=None)"
   ]
  },
  {
   "cell_type": "code",
   "execution_count": 38,
   "id": "48ea4507-36d5-41af-90cf-fcc53bfbf429",
   "metadata": {},
   "outputs": [],
   "source": [
    "#!pip install aioboto3==6.0.0"
   ]
  },
  {
   "cell_type": "code",
   "execution_count": 39,
   "id": "242da3f0-90db-45fd-a58b-fe83ade5a7aa",
   "metadata": {},
   "outputs": [],
   "source": [
    "records_df = get_df_from_records(records)\n"
   ]
  },
  {
   "cell_type": "code",
   "execution_count": 40,
   "id": "44a149e3-cc67-419a-ba70-753bb5440e58",
   "metadata": {},
   "outputs": [
    {
     "name": "stdout",
     "output_type": "stream",
     "text": [
      "<class 'pandas.core.frame.DataFrame'>\n",
      "Int64Index: 244256 entries, 0 to 31\n",
      "Data columns (total 9 columns):\n",
      " #   Column        Non-Null Count   Dtype  \n",
      "---  ------        --------------   -----  \n",
      " 0   country_code  244256 non-null  object \n",
      " 1   device_id     244256 non-null  object \n",
      " 2   x             244256 non-null  float64\n",
      " 3   y             244256 non-null  float64\n",
      " 4   z             244256 non-null  float64\n",
      " 5   device_t      244256 non-null  float64\n",
      " 6   cloud_t       244256 non-null  float64\n",
      " 7   sr            244256 non-null  float64\n",
      " 8   sample_t      244256 non-null  float64\n",
      "dtypes: float64(7), object(2)\n",
      "memory usage: 18.6+ MB\n"
     ]
    }
   ],
   "source": [
    "records_df.info()"
   ]
  },
  {
   "cell_type": "code",
   "execution_count": 41,
   "id": "44e07297-ac0f-4833-9a91-834628096ea5",
   "metadata": {},
   "outputs": [
    {
     "data": {
      "text/html": [
       "<div>\n",
       "<style scoped>\n",
       "    .dataframe tbody tr th:only-of-type {\n",
       "        vertical-align: middle;\n",
       "    }\n",
       "\n",
       "    .dataframe tbody tr th {\n",
       "        vertical-align: top;\n",
       "    }\n",
       "\n",
       "    .dataframe thead th {\n",
       "        text-align: right;\n",
       "    }\n",
       "</style>\n",
       "<table border=\"1\" class=\"dataframe\">\n",
       "  <thead>\n",
       "    <tr style=\"text-align: right;\">\n",
       "      <th></th>\n",
       "      <th>x</th>\n",
       "      <th>y</th>\n",
       "      <th>z</th>\n",
       "      <th>device_t</th>\n",
       "      <th>cloud_t</th>\n",
       "      <th>sr</th>\n",
       "      <th>sample_t</th>\n",
       "    </tr>\n",
       "  </thead>\n",
       "  <tbody>\n",
       "    <tr>\n",
       "      <th>count</th>\n",
       "      <td>244256.000000</td>\n",
       "      <td>244256.000000</td>\n",
       "      <td>244256.000000</td>\n",
       "      <td>2.442560e+05</td>\n",
       "      <td>2.442560e+05</td>\n",
       "      <td>244256.00</td>\n",
       "      <td>2.442560e+05</td>\n",
       "    </tr>\n",
       "    <tr>\n",
       "      <th>mean</th>\n",
       "      <td>-0.000136</td>\n",
       "      <td>-0.000026</td>\n",
       "      <td>0.000050</td>\n",
       "      <td>1.598922e+09</td>\n",
       "      <td>1.598922e+09</td>\n",
       "      <td>31.25</td>\n",
       "      <td>1.598922e+09</td>\n",
       "    </tr>\n",
       "    <tr>\n",
       "      <th>std</th>\n",
       "      <td>0.045775</td>\n",
       "      <td>0.043230</td>\n",
       "      <td>0.060903</td>\n",
       "      <td>2.251532e+03</td>\n",
       "      <td>2.251524e+03</td>\n",
       "      <td>0.00</td>\n",
       "      <td>2.251524e+03</td>\n",
       "    </tr>\n",
       "    <tr>\n",
       "      <th>min</th>\n",
       "      <td>-0.700000</td>\n",
       "      <td>-0.200000</td>\n",
       "      <td>-0.320000</td>\n",
       "      <td>1.598918e+09</td>\n",
       "      <td>1.598918e+09</td>\n",
       "      <td>31.25</td>\n",
       "      <td>1.598918e+09</td>\n",
       "    </tr>\n",
       "    <tr>\n",
       "      <th>25%</th>\n",
       "      <td>-0.030000</td>\n",
       "      <td>-0.030000</td>\n",
       "      <td>-0.040000</td>\n",
       "      <td>1.598920e+09</td>\n",
       "      <td>1.598920e+09</td>\n",
       "      <td>31.25</td>\n",
       "      <td>1.598920e+09</td>\n",
       "    </tr>\n",
       "    <tr>\n",
       "      <th>50%</th>\n",
       "      <td>0.000000</td>\n",
       "      <td>0.000000</td>\n",
       "      <td>0.000000</td>\n",
       "      <td>1.598922e+09</td>\n",
       "      <td>1.598922e+09</td>\n",
       "      <td>31.25</td>\n",
       "      <td>1.598922e+09</td>\n",
       "    </tr>\n",
       "    <tr>\n",
       "      <th>75%</th>\n",
       "      <td>0.030000</td>\n",
       "      <td>0.030000</td>\n",
       "      <td>0.040000</td>\n",
       "      <td>1.598924e+09</td>\n",
       "      <td>1.598924e+09</td>\n",
       "      <td>31.25</td>\n",
       "      <td>1.598924e+09</td>\n",
       "    </tr>\n",
       "    <tr>\n",
       "      <th>max</th>\n",
       "      <td>0.820000</td>\n",
       "      <td>0.250000</td>\n",
       "      <td>0.390000</td>\n",
       "      <td>1.598926e+09</td>\n",
       "      <td>1.598926e+09</td>\n",
       "      <td>31.25</td>\n",
       "      <td>1.598926e+09</td>\n",
       "    </tr>\n",
       "  </tbody>\n",
       "</table>\n",
       "</div>"
      ],
      "text/plain": [
       "                   x              y              z      device_t  \\\n",
       "count  244256.000000  244256.000000  244256.000000  2.442560e+05   \n",
       "mean       -0.000136      -0.000026       0.000050  1.598922e+09   \n",
       "std         0.045775       0.043230       0.060903  2.251532e+03   \n",
       "min        -0.700000      -0.200000      -0.320000  1.598918e+09   \n",
       "25%        -0.030000      -0.030000      -0.040000  1.598920e+09   \n",
       "50%         0.000000       0.000000       0.000000  1.598922e+09   \n",
       "75%         0.030000       0.030000       0.040000  1.598924e+09   \n",
       "max         0.820000       0.250000       0.390000  1.598926e+09   \n",
       "\n",
       "            cloud_t         sr      sample_t  \n",
       "count  2.442560e+05  244256.00  2.442560e+05  \n",
       "mean   1.598922e+09      31.25  1.598922e+09  \n",
       "std    2.251524e+03       0.00  2.251524e+03  \n",
       "min    1.598918e+09      31.25  1.598918e+09  \n",
       "25%    1.598920e+09      31.25  1.598920e+09  \n",
       "50%    1.598922e+09      31.25  1.598922e+09  \n",
       "75%    1.598924e+09      31.25  1.598924e+09  \n",
       "max    1.598926e+09      31.25  1.598926e+09  "
      ]
     },
     "execution_count": 41,
     "metadata": {},
     "output_type": "execute_result"
    }
   ],
   "source": [
    "records_df.describe()"
   ]
  },
  {
   "cell_type": "code",
   "execution_count": 42,
   "id": "114c52b4-ed59-4da2-be8f-3f7f8a59afa8",
   "metadata": {},
   "outputs": [
    {
     "data": {
      "text/html": [
       "<div>\n",
       "<style scoped>\n",
       "    .dataframe tbody tr th:only-of-type {\n",
       "        vertical-align: middle;\n",
       "    }\n",
       "\n",
       "    .dataframe tbody tr th {\n",
       "        vertical-align: top;\n",
       "    }\n",
       "\n",
       "    .dataframe thead th {\n",
       "        text-align: right;\n",
       "    }\n",
       "</style>\n",
       "<table border=\"1\" class=\"dataframe\">\n",
       "  <thead>\n",
       "    <tr style=\"text-align: right;\">\n",
       "      <th></th>\n",
       "      <th>country_code</th>\n",
       "      <th>device_id</th>\n",
       "      <th>x</th>\n",
       "      <th>y</th>\n",
       "      <th>z</th>\n",
       "      <th>device_t</th>\n",
       "      <th>cloud_t</th>\n",
       "      <th>sr</th>\n",
       "      <th>sample_t</th>\n",
       "    </tr>\n",
       "  </thead>\n",
       "  <tbody>\n",
       "    <tr>\n",
       "      <th>0</th>\n",
       "      <td>cl</td>\n",
       "      <td>1003</td>\n",
       "      <td>0.00</td>\n",
       "      <td>0.03</td>\n",
       "      <td>-0.04</td>\n",
       "      <td>1.598918e+09</td>\n",
       "      <td>1.598918e+09</td>\n",
       "      <td>31.25</td>\n",
       "      <td>1.598918e+09</td>\n",
       "    </tr>\n",
       "    <tr>\n",
       "      <th>1</th>\n",
       "      <td>cl</td>\n",
       "      <td>1003</td>\n",
       "      <td>0.00</td>\n",
       "      <td>0.00</td>\n",
       "      <td>0.03</td>\n",
       "      <td>1.598918e+09</td>\n",
       "      <td>1.598918e+09</td>\n",
       "      <td>31.25</td>\n",
       "      <td>1.598918e+09</td>\n",
       "    </tr>\n",
       "    <tr>\n",
       "      <th>2</th>\n",
       "      <td>cl</td>\n",
       "      <td>1003</td>\n",
       "      <td>0.04</td>\n",
       "      <td>0.04</td>\n",
       "      <td>0.05</td>\n",
       "      <td>1.598918e+09</td>\n",
       "      <td>1.598918e+09</td>\n",
       "      <td>31.25</td>\n",
       "      <td>1.598918e+09</td>\n",
       "    </tr>\n",
       "    <tr>\n",
       "      <th>3</th>\n",
       "      <td>cl</td>\n",
       "      <td>1003</td>\n",
       "      <td>0.00</td>\n",
       "      <td>0.04</td>\n",
       "      <td>0.09</td>\n",
       "      <td>1.598918e+09</td>\n",
       "      <td>1.598918e+09</td>\n",
       "      <td>31.25</td>\n",
       "      <td>1.598918e+09</td>\n",
       "    </tr>\n",
       "    <tr>\n",
       "      <th>4</th>\n",
       "      <td>cl</td>\n",
       "      <td>1003</td>\n",
       "      <td>-0.06</td>\n",
       "      <td>-0.03</td>\n",
       "      <td>0.09</td>\n",
       "      <td>1.598918e+09</td>\n",
       "      <td>1.598918e+09</td>\n",
       "      <td>31.25</td>\n",
       "      <td>1.598918e+09</td>\n",
       "    </tr>\n",
       "  </tbody>\n",
       "</table>\n",
       "</div>"
      ],
      "text/plain": [
       "  country_code device_id     x     y     z      device_t       cloud_t     sr  \\\n",
       "0           cl      1003  0.00  0.03 -0.04  1.598918e+09  1.598918e+09  31.25   \n",
       "1           cl      1003  0.00  0.00  0.03  1.598918e+09  1.598918e+09  31.25   \n",
       "2           cl      1003  0.04  0.04  0.05  1.598918e+09  1.598918e+09  31.25   \n",
       "3           cl      1003  0.00  0.04  0.09  1.598918e+09  1.598918e+09  31.25   \n",
       "4           cl      1003 -0.06 -0.03  0.09  1.598918e+09  1.598918e+09  31.25   \n",
       "\n",
       "       sample_t  \n",
       "0  1.598918e+09  \n",
       "1  1.598918e+09  \n",
       "2  1.598918e+09  \n",
       "3  1.598918e+09  \n",
       "4  1.598918e+09  "
      ]
     },
     "execution_count": 42,
     "metadata": {},
     "output_type": "execute_result"
    }
   ],
   "source": [
    "records_df.head()"
   ]
  },
  {
   "cell_type": "code",
   "execution_count": 43,
   "id": "45c028d8-4dfe-4408-9555-aa692cfc1d95",
   "metadata": {},
   "outputs": [
    {
     "data": {
      "text/plain": [
       "device_id\n",
       "1003    244256\n",
       "Name: x, dtype: int64"
      ]
     },
     "execution_count": 43,
     "metadata": {},
     "output_type": "execute_result"
    }
   ],
   "source": [
    "records_df.groupby(\"device_id\")[\"x\"].count()"
   ]
  },
  {
   "cell_type": "code",
   "execution_count": 49,
   "id": "7e03b5f8-909c-4542-a08c-922531ce6983",
   "metadata": {},
   "outputs": [
    {
     "data": {
      "text/plain": [
       "<folium.vector_layers.Circle at 0x7f3ea0869910>"
      ]
     },
     "execution_count": 49,
     "metadata": {},
     "output_type": "execute_result"
    }
   ],
   "source": [
    "import folium\n",
    "# Create map centered at earthquake epicenter\n",
    "m = folium.Map(\n",
    "        location=[eq['latitude'], eq['longitude']],\n",
    "        zoom_start=7\n",
    "        )\n",
    "# Add circle to indicate epicenter\n",
    "folium.Circle(\n",
    "    radius=10000,\n",
    "    location=[eq['latitude'], eq['longitude']],\n",
    "    color='crimson',\n",
    "    fill='crimson',\n",
    "    ).add_to(m)"
   ]
  },
  {
   "cell_type": "code",
   "execution_count": 25,
   "id": "bdb40d63-852c-4773-bee7-de579d9daa1c",
   "metadata": {},
   "outputs": [],
   "source": [
    "import plotnine as pn\n",
    "def plot_seismograms(device_id):\n",
    "    \n",
    "    # Get earthquake date as datetime.datetime object\n",
    "    eq_dt = AwsDataClient._get_dt_from_str(eq['date_utc'])\n",
    "\n",
    "    plots = []\n",
    "    for axis in ['x', 'y', 'z']:\n",
    "        plots.append(\n",
    "            pn.ggplot(\n",
    "                records_df[records_df['device_id'] == device_id],\n",
    "                pn.aes('sample_dt', axis)\n",
    "                ) + \\\n",
    "            pn.geom_line(color='blue') + \\\n",
    "            pn.scales.scale_x_datetime(\n",
    "                date_breaks='1 minute',\n",
    "                date_labels='%H:%M:%S'\n",
    "                ) + \\\n",
    "            pn.geoms.geom_vline(\n",
    "                xintercept=eq_dt,\n",
    "                color='crimson'\n",
    "                ) + \\\n",
    "            pn.labels.ggtitle(\n",
    "                'device {}, axis {}'.format(\n",
    "                      device_id, axis)\n",
    "                      )\n",
    "                )\n",
    "    \n",
    "    # Now output the plots    \n",
    "    for p in plots:\n",
    "        print(p)"
   ]
  },
  {
   "cell_type": "code",
   "execution_count": 26,
   "id": "ad91f486-6eb9-4483-b9eb-153231ca4e61",
   "metadata": {},
   "outputs": [
    {
     "ename": "NameError",
     "evalue": "name 'eq' is not defined",
     "output_type": "error",
     "traceback": [
      "\u001b[0;31m---------------------------------------------------------------------------\u001b[0m",
      "\u001b[0;31mNameError\u001b[0m                                 Traceback (most recent call last)",
      "\u001b[0;32m/tmp/ipykernel_1605/376405992.py\u001b[0m in \u001b[0;36m<cell line: 1>\u001b[0;34m()\u001b[0m\n\u001b[0;32m----> 1\u001b[0;31m \u001b[0mplot_seismograms\u001b[0m\u001b[0;34m(\u001b[0m\u001b[0;34m'1000'\u001b[0m\u001b[0;34m)\u001b[0m\u001b[0;34m\u001b[0m\u001b[0;34m\u001b[0m\u001b[0m\n\u001b[0m",
      "\u001b[0;32m/tmp/ipykernel_1605/3799741761.py\u001b[0m in \u001b[0;36mplot_seismograms\u001b[0;34m(device_id)\u001b[0m\n\u001b[1;32m      3\u001b[0m \u001b[0;34m\u001b[0m\u001b[0m\n\u001b[1;32m      4\u001b[0m     \u001b[0;31m# Get earthquake date as datetime.datetime object\u001b[0m\u001b[0;34m\u001b[0m\u001b[0;34m\u001b[0m\u001b[0m\n\u001b[0;32m----> 5\u001b[0;31m     \u001b[0meq_dt\u001b[0m \u001b[0;34m=\u001b[0m \u001b[0mAwsDataClient\u001b[0m\u001b[0;34m.\u001b[0m\u001b[0m_get_dt_from_str\u001b[0m\u001b[0;34m(\u001b[0m\u001b[0meq\u001b[0m\u001b[0;34m[\u001b[0m\u001b[0;34m'date_utc'\u001b[0m\u001b[0;34m]\u001b[0m\u001b[0;34m)\u001b[0m\u001b[0;34m\u001b[0m\u001b[0;34m\u001b[0m\u001b[0m\n\u001b[0m\u001b[1;32m      6\u001b[0m \u001b[0;34m\u001b[0m\u001b[0m\n\u001b[1;32m      7\u001b[0m     \u001b[0mplots\u001b[0m \u001b[0;34m=\u001b[0m \u001b[0;34m[\u001b[0m\u001b[0;34m]\u001b[0m\u001b[0;34m\u001b[0m\u001b[0;34m\u001b[0m\u001b[0m\n",
      "\u001b[0;31mNameError\u001b[0m: name 'eq' is not defined"
     ]
    }
   ],
   "source": [
    "plot_seismograms('1000')"
   ]
  }
 ],
 "metadata": {
  "kernelspec": {
   "display_name": "default:Python",
   "language": "python",
   "name": "conda-env-default-py"
  },
  "language_info": {
   "codemirror_mode": {
    "name": "ipython",
    "version": 3
   },
   "file_extension": ".py",
   "mimetype": "text/x-python",
   "name": "python",
   "nbconvert_exporter": "python",
   "pygments_lexer": "ipython3",
   "version": "3.9.12"
  }
 },
 "nbformat": 4,
 "nbformat_minor": 5
}
