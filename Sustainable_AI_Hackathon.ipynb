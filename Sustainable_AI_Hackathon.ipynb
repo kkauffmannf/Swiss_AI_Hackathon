{
 "cells": [
  {
   "cell_type": "code",
   "execution_count": 1,
   "id": "adcef6ab-c374-48d2-8dea-a8895b3f6c77",
   "metadata": {},
   "outputs": [],
   "source": [
    "import pandas as pd\n",
    "import numpy as np\n",
    "import seaborn as sns\n",
    "from datetime import datetime\n",
    "\n",
    "from openeew.data.aws import AwsDataClient\n",
    "from openeew.data.df import get_df_from_records\n",
    "\n",
    "# When importing pandas profiling matplotlib cannot show plots\n",
    "# solved by importing matplotlib \n",
    "# after pandas_profiling and adding the magic command. \n",
    "# Magic command is required otherwise nothing is displayed:\n",
    "\n",
    "import matplotlib.pyplot as plt\n",
    "%matplotlib inline\n"
   ]
  },
  {
   "cell_type": "code",
   "execution_count": 2,
   "id": "6c0cda06-6384-4164-962d-0ec2932e86e3",
   "metadata": {},
   "outputs": [],
   "source": [
    "data_client = AwsDataClient('cl')"
   ]
  },
  {
   "cell_type": "code",
   "execution_count": 3,
   "id": "1e96ad91-88c8-445c-8b7f-8f4d8d313ff5",
   "metadata": {},
   "outputs": [],
   "source": [
    "devices = data_client.get_current_devices()"
   ]
  },
  {
   "cell_type": "code",
   "execution_count": 4,
   "id": "2bbe6df9-5da9-43b9-9e5b-6c53949231ee",
   "metadata": {},
   "outputs": [
    {
     "name": "stdout",
     "output_type": "stream",
     "text": [
      "[{'country_code': 'cl', 'device_id': '1000', 'latitude': -33.4, 'longitude': -71.69, 'effective_from': 1543406400.0, 'effective_to': 253402300799.0, 'is_current_row': True, 'vertical_axis': 'x', 'horizontal_axes': ['y', 'z']}, {'country_code': 'cl', 'device_id': '1001', 'latitude': -32.79, 'longitude': -71.53, 'effective_from': 1519862400.0, 'effective_to': 253402300799.0, 'is_current_row': True, 'vertical_axis': 'x', 'horizontal_axes': ['y', 'z']}, {'country_code': 'cl', 'device_id': '1003', 'latitude': -33.58, 'longitude': -71.61, 'effective_from': 1519776000.0, 'effective_to': 253402300799.0, 'is_current_row': True, 'vertical_axis': 'x', 'horizontal_axes': ['y', 'z']}, {'country_code': 'cl', 'device_id': '1004', 'latitude': -33.96, 'longitude': -71.87, 'effective_from': 1525109400.0, 'effective_to': 253402300799.0, 'is_current_row': True, 'vertical_axis': 'x', 'horizontal_axes': ['y', 'z']}, {'country_code': 'cl', 'device_id': '1005', 'latitude': -33.36, 'longitude': -71.67, 'effective_from': 1530986400.0, 'effective_to': 253402300799.0, 'is_current_row': True, 'vertical_axis': 'x', 'horizontal_axes': ['y', 'z']}, {'country_code': 'cl', 'device_id': '1006', 'latitude': -33.96, 'longitude': -71.82, 'effective_from': 1534550400.0, 'effective_to': 253402300799.0, 'is_current_row': True, 'vertical_axis': 'x', 'horizontal_axes': ['y', 'z']}, {'country_code': 'cl', 'device_id': '1007', 'latitude': -32.73, 'longitude': -71.41, 'effective_from': 1531137600.0, 'effective_to': 253402300799.0, 'is_current_row': True, 'vertical_axis': 'x', 'horizontal_axes': ['y', 'z']}, {'country_code': 'cl', 'device_id': '1008', 'latitude': -32.96, 'longitude': -71.55, 'effective_from': 1531137600.0, 'effective_to': 253402300799.0, 'is_current_row': True, 'vertical_axis': 'x', 'horizontal_axes': ['y', 'z']}, {'country_code': 'cl', 'device_id': '1009', 'latitude': -33.47, 'longitude': -70.57, 'effective_from': 1535760000.0, 'effective_to': 253402300799.0, 'is_current_row': True, 'vertical_axis': 'x', 'horizontal_axes': ['y', 'z']}, {'country_code': 'cl', 'device_id': '1010', 'latitude': -33.39, 'longitude': -70.55, 'effective_from': 1536969600.0, 'effective_to': 253402300799.0, 'is_current_row': True, 'vertical_axis': 'x', 'horizontal_axes': ['y', 'z']}]\n"
     ]
    }
   ],
   "source": [
    "print(devices)"
   ]
  },
  {
   "cell_type": "code",
   "execution_count": 5,
   "id": "a00dd98e-e63b-4527-83bf-3ade103c135f",
   "metadata": {},
   "outputs": [],
   "source": [
    "# Get earthquake location and datetime\n",
    "# I chose one that occured in 2020 near Copiapo\n",
    "\n",
    "eq = {\n",
    "    'latitude': -27.969,\n",
    "    'longitude': -71.241,\n",
    "    'date_utc': '2020-09-01 04:36:36'\n",
    "    }"
   ]
  },
  {
   "cell_type": "code",
   "execution_count": 6,
   "id": "126e81a6-151d-414b-bbb3-1cafc758f15e",
   "metadata": {},
   "outputs": [],
   "source": [
    "start_date_utc = '2020-09-01 04:30:00'\n",
    "end_date_utc = '2020-09-01 04:45:00'"
   ]
  },
  {
   "cell_type": "code",
   "execution_count": 7,
   "id": "16b3622f-12b5-457a-bda5-e73bd521b792",
   "metadata": {},
   "outputs": [],
   "source": [
    "# Allow nested asyncio event loop\n",
    "# See https://github.com/erdewit/nest_asyncio\n",
    "import nest_asyncio\n",
    "nest_asyncio.apply() "
   ]
  },
  {
   "cell_type": "code",
   "execution_count": 8,
   "id": "08155336-52c3-4083-a8ca-5be18a5b86a3",
   "metadata": {},
   "outputs": [],
   "source": [
    "records = data_client.get_filtered_records(start_date_utc, end_date_utc, device_ids=None)"
   ]
  },
  {
   "cell_type": "code",
   "execution_count": 9,
   "id": "48ea4507-36d5-41af-90cf-fcc53bfbf429",
   "metadata": {},
   "outputs": [],
   "source": [
    "#!pip uninstall -y aioboto3"
   ]
  },
  {
   "cell_type": "code",
   "execution_count": 10,
   "id": "f8bea953-69e8-4e33-9635-b48b35f2751e",
   "metadata": {},
   "outputs": [],
   "source": [
    "#!pip uninstall -y boto3"
   ]
  },
  {
   "cell_type": "code",
   "execution_count": 11,
   "id": "2a643f38-eb85-4692-a671-89c52c68b47a",
   "metadata": {},
   "outputs": [],
   "source": [
    "#!pip install aioboto3==6.0.0"
   ]
  },
  {
   "cell_type": "code",
   "execution_count": 12,
   "id": "242da3f0-90db-45fd-a58b-fe83ade5a7aa",
   "metadata": {},
   "outputs": [],
   "source": [
    "records_df = get_df_from_records(records)\n"
   ]
  },
  {
   "cell_type": "code",
   "execution_count": 13,
   "id": "44a149e3-cc67-419a-ba70-753bb5440e58",
   "metadata": {},
   "outputs": [
    {
     "name": "stdout",
     "output_type": "stream",
     "text": [
      "<class 'pandas.core.frame.DataFrame'>\n",
      "Int64Index: 28160 entries, 0 to 31\n",
      "Data columns (total 9 columns):\n",
      " #   Column        Non-Null Count  Dtype  \n",
      "---  ------        --------------  -----  \n",
      " 0   country_code  28160 non-null  object \n",
      " 1   device_id     28160 non-null  object \n",
      " 2   x             28160 non-null  float64\n",
      " 3   y             28160 non-null  float64\n",
      " 4   z             28160 non-null  float64\n",
      " 5   device_t      28160 non-null  float64\n",
      " 6   cloud_t       28160 non-null  float64\n",
      " 7   sr            28160 non-null  float64\n",
      " 8   sample_t      28160 non-null  float64\n",
      "dtypes: float64(7), object(2)\n",
      "memory usage: 2.1+ MB\n"
     ]
    }
   ],
   "source": [
    "records_df.info()"
   ]
  },
  {
   "cell_type": "code",
   "execution_count": 14,
   "id": "44e07297-ac0f-4833-9a91-834628096ea5",
   "metadata": {},
   "outputs": [
    {
     "data": {
      "text/html": [
       "<div>\n",
       "<style scoped>\n",
       "    .dataframe tbody tr th:only-of-type {\n",
       "        vertical-align: middle;\n",
       "    }\n",
       "\n",
       "    .dataframe tbody tr th {\n",
       "        vertical-align: top;\n",
       "    }\n",
       "\n",
       "    .dataframe thead th {\n",
       "        text-align: right;\n",
       "    }\n",
       "</style>\n",
       "<table border=\"1\" class=\"dataframe\">\n",
       "  <thead>\n",
       "    <tr style=\"text-align: right;\">\n",
       "      <th></th>\n",
       "      <th>x</th>\n",
       "      <th>y</th>\n",
       "      <th>z</th>\n",
       "      <th>device_t</th>\n",
       "      <th>cloud_t</th>\n",
       "      <th>sr</th>\n",
       "      <th>sample_t</th>\n",
       "    </tr>\n",
       "  </thead>\n",
       "  <tbody>\n",
       "    <tr>\n",
       "      <th>count</th>\n",
       "      <td>28160.000000</td>\n",
       "      <td>28160.000000</td>\n",
       "      <td>28160.000000</td>\n",
       "      <td>2.816000e+04</td>\n",
       "      <td>2.816000e+04</td>\n",
       "      <td>28160.00</td>\n",
       "      <td>2.816000e+04</td>\n",
       "    </tr>\n",
       "    <tr>\n",
       "      <th>mean</th>\n",
       "      <td>-0.000003</td>\n",
       "      <td>0.000015</td>\n",
       "      <td>0.000592</td>\n",
       "      <td>1.598935e+09</td>\n",
       "      <td>1.598935e+09</td>\n",
       "      <td>31.25</td>\n",
       "      <td>1.598935e+09</td>\n",
       "    </tr>\n",
       "    <tr>\n",
       "      <th>std</th>\n",
       "      <td>0.072212</td>\n",
       "      <td>0.182908</td>\n",
       "      <td>0.177618</td>\n",
       "      <td>2.595633e+02</td>\n",
       "      <td>2.595630e+02</td>\n",
       "      <td>0.00</td>\n",
       "      <td>2.595631e+02</td>\n",
       "    </tr>\n",
       "    <tr>\n",
       "      <th>min</th>\n",
       "      <td>-0.820000</td>\n",
       "      <td>-2.930000</td>\n",
       "      <td>-2.960000</td>\n",
       "      <td>1.598935e+09</td>\n",
       "      <td>1.598935e+09</td>\n",
       "      <td>31.25</td>\n",
       "      <td>1.598935e+09</td>\n",
       "    </tr>\n",
       "    <tr>\n",
       "      <th>25%</th>\n",
       "      <td>-0.030000</td>\n",
       "      <td>-0.040000</td>\n",
       "      <td>-0.050000</td>\n",
       "      <td>1.598935e+09</td>\n",
       "      <td>1.598935e+09</td>\n",
       "      <td>31.25</td>\n",
       "      <td>1.598935e+09</td>\n",
       "    </tr>\n",
       "    <tr>\n",
       "      <th>50%</th>\n",
       "      <td>0.000000</td>\n",
       "      <td>0.000000</td>\n",
       "      <td>0.000000</td>\n",
       "      <td>1.598935e+09</td>\n",
       "      <td>1.598935e+09</td>\n",
       "      <td>31.25</td>\n",
       "      <td>1.598935e+09</td>\n",
       "    </tr>\n",
       "    <tr>\n",
       "      <th>75%</th>\n",
       "      <td>0.030000</td>\n",
       "      <td>0.040000</td>\n",
       "      <td>0.050000</td>\n",
       "      <td>1.598935e+09</td>\n",
       "      <td>1.598935e+09</td>\n",
       "      <td>31.25</td>\n",
       "      <td>1.598935e+09</td>\n",
       "    </tr>\n",
       "    <tr>\n",
       "      <th>max</th>\n",
       "      <td>0.910000</td>\n",
       "      <td>2.450000</td>\n",
       "      <td>2.980000</td>\n",
       "      <td>1.598935e+09</td>\n",
       "      <td>1.598935e+09</td>\n",
       "      <td>31.25</td>\n",
       "      <td>1.598935e+09</td>\n",
       "    </tr>\n",
       "  </tbody>\n",
       "</table>\n",
       "</div>"
      ],
      "text/plain": [
       "                  x             y             z      device_t       cloud_t  \\\n",
       "count  28160.000000  28160.000000  28160.000000  2.816000e+04  2.816000e+04   \n",
       "mean      -0.000003      0.000015      0.000592  1.598935e+09  1.598935e+09   \n",
       "std        0.072212      0.182908      0.177618  2.595633e+02  2.595630e+02   \n",
       "min       -0.820000     -2.930000     -2.960000  1.598935e+09  1.598935e+09   \n",
       "25%       -0.030000     -0.040000     -0.050000  1.598935e+09  1.598935e+09   \n",
       "50%        0.000000      0.000000      0.000000  1.598935e+09  1.598935e+09   \n",
       "75%        0.030000      0.040000      0.050000  1.598935e+09  1.598935e+09   \n",
       "max        0.910000      2.450000      2.980000  1.598935e+09  1.598935e+09   \n",
       "\n",
       "             sr      sample_t  \n",
       "count  28160.00  2.816000e+04  \n",
       "mean      31.25  1.598935e+09  \n",
       "std        0.00  2.595631e+02  \n",
       "min       31.25  1.598935e+09  \n",
       "25%       31.25  1.598935e+09  \n",
       "50%       31.25  1.598935e+09  \n",
       "75%       31.25  1.598935e+09  \n",
       "max       31.25  1.598935e+09  "
      ]
     },
     "execution_count": 14,
     "metadata": {},
     "output_type": "execute_result"
    }
   ],
   "source": [
    "records_df.describe()"
   ]
  },
  {
   "cell_type": "code",
   "execution_count": 15,
   "id": "114c52b4-ed59-4da2-be8f-3f7f8a59afa8",
   "metadata": {},
   "outputs": [
    {
     "data": {
      "text/html": [
       "<div>\n",
       "<style scoped>\n",
       "    .dataframe tbody tr th:only-of-type {\n",
       "        vertical-align: middle;\n",
       "    }\n",
       "\n",
       "    .dataframe tbody tr th {\n",
       "        vertical-align: top;\n",
       "    }\n",
       "\n",
       "    .dataframe thead th {\n",
       "        text-align: right;\n",
       "    }\n",
       "</style>\n",
       "<table border=\"1\" class=\"dataframe\">\n",
       "  <thead>\n",
       "    <tr style=\"text-align: right;\">\n",
       "      <th></th>\n",
       "      <th>country_code</th>\n",
       "      <th>device_id</th>\n",
       "      <th>x</th>\n",
       "      <th>y</th>\n",
       "      <th>z</th>\n",
       "      <th>device_t</th>\n",
       "      <th>cloud_t</th>\n",
       "      <th>sr</th>\n",
       "      <th>sample_t</th>\n",
       "    </tr>\n",
       "  </thead>\n",
       "  <tbody>\n",
       "    <tr>\n",
       "      <th>0</th>\n",
       "      <td>cl</td>\n",
       "      <td>1003</td>\n",
       "      <td>0.10</td>\n",
       "      <td>0.01</td>\n",
       "      <td>0.09</td>\n",
       "      <td>1.598935e+09</td>\n",
       "      <td>1.598935e+09</td>\n",
       "      <td>31.25</td>\n",
       "      <td>1.598935e+09</td>\n",
       "    </tr>\n",
       "    <tr>\n",
       "      <th>1</th>\n",
       "      <td>cl</td>\n",
       "      <td>1003</td>\n",
       "      <td>-0.01</td>\n",
       "      <td>-0.02</td>\n",
       "      <td>-0.03</td>\n",
       "      <td>1.598935e+09</td>\n",
       "      <td>1.598935e+09</td>\n",
       "      <td>31.25</td>\n",
       "      <td>1.598935e+09</td>\n",
       "    </tr>\n",
       "    <tr>\n",
       "      <th>2</th>\n",
       "      <td>cl</td>\n",
       "      <td>1003</td>\n",
       "      <td>0.00</td>\n",
       "      <td>0.01</td>\n",
       "      <td>-0.05</td>\n",
       "      <td>1.598935e+09</td>\n",
       "      <td>1.598935e+09</td>\n",
       "      <td>31.25</td>\n",
       "      <td>1.598935e+09</td>\n",
       "    </tr>\n",
       "    <tr>\n",
       "      <th>3</th>\n",
       "      <td>cl</td>\n",
       "      <td>1003</td>\n",
       "      <td>0.02</td>\n",
       "      <td>0.00</td>\n",
       "      <td>0.03</td>\n",
       "      <td>1.598935e+09</td>\n",
       "      <td>1.598935e+09</td>\n",
       "      <td>31.25</td>\n",
       "      <td>1.598935e+09</td>\n",
       "    </tr>\n",
       "    <tr>\n",
       "      <th>4</th>\n",
       "      <td>cl</td>\n",
       "      <td>1003</td>\n",
       "      <td>0.03</td>\n",
       "      <td>0.03</td>\n",
       "      <td>-0.05</td>\n",
       "      <td>1.598935e+09</td>\n",
       "      <td>1.598935e+09</td>\n",
       "      <td>31.25</td>\n",
       "      <td>1.598935e+09</td>\n",
       "    </tr>\n",
       "  </tbody>\n",
       "</table>\n",
       "</div>"
      ],
      "text/plain": [
       "  country_code device_id     x     y     z      device_t       cloud_t     sr  \\\n",
       "0           cl      1003  0.10  0.01  0.09  1.598935e+09  1.598935e+09  31.25   \n",
       "1           cl      1003 -0.01 -0.02 -0.03  1.598935e+09  1.598935e+09  31.25   \n",
       "2           cl      1003  0.00  0.01 -0.05  1.598935e+09  1.598935e+09  31.25   \n",
       "3           cl      1003  0.02  0.00  0.03  1.598935e+09  1.598935e+09  31.25   \n",
       "4           cl      1003  0.03  0.03 -0.05  1.598935e+09  1.598935e+09  31.25   \n",
       "\n",
       "       sample_t  \n",
       "0  1.598935e+09  \n",
       "1  1.598935e+09  \n",
       "2  1.598935e+09  \n",
       "3  1.598935e+09  \n",
       "4  1.598935e+09  "
      ]
     },
     "execution_count": 15,
     "metadata": {},
     "output_type": "execute_result"
    }
   ],
   "source": [
    "records_df.head()"
   ]
  },
  {
   "cell_type": "code",
   "execution_count": 16,
   "id": "45c028d8-4dfe-4408-9555-aa692cfc1d95",
   "metadata": {},
   "outputs": [
    {
     "data": {
      "text/plain": [
       "device_id\n",
       "1003    28160\n",
       "Name: x, dtype: int64"
      ]
     },
     "execution_count": 16,
     "metadata": {},
     "output_type": "execute_result"
    }
   ],
   "source": [
    "records_df.groupby(\"device_id\")[\"x\"].count()"
   ]
  },
  {
   "cell_type": "code",
   "execution_count": 17,
   "id": "1a09ec34-46d3-4c00-a4c8-81f50fcf7793",
   "metadata": {},
   "outputs": [],
   "source": [
    "# device 1003 lat: -33.58, long: -71.61... is in San Antonio, to the coast of Santiago, far away from the epicenter. "
   ]
  },
  {
   "cell_type": "code",
   "execution_count": 18,
   "id": "f4cc1981-f999-4f30-be35-6c74f0409ff5",
   "metadata": {},
   "outputs": [],
   "source": [
    "# Get UTC date from Unix time sample_t\n",
    "records_df['sample_dt'] = \\\n",
    "    records_df['sample_t'].apply(\n",
    "        lambda x: datetime.utcfromtimestamp(x)\n",
    "        )"
   ]
  },
  {
   "cell_type": "code",
   "execution_count": 19,
   "id": "bdb40d63-852c-4773-bee7-de579d9daa1c",
   "metadata": {},
   "outputs": [],
   "source": [
    "import plotnine as pn\n",
    "def plot_seismograms(device_id):\n",
    "    \n",
    "    # Get earthquake date as datetime.datetime object\n",
    "    eq_dt = AwsDataClient._get_dt_from_str(eq['date_utc'])\n",
    "\n",
    "    plots = []\n",
    "    for axis in ['x', 'y', 'z']:\n",
    "        plots.append(\n",
    "            pn.ggplot(\n",
    "                records_df[records_df['device_id'] == device_id],\n",
    "                pn.aes('sample_dt', axis)\n",
    "                ) + \\\n",
    "            pn.geom_line(color='blue') + \\\n",
    "            pn.scales.scale_x_datetime(\n",
    "                date_breaks='1 minute',\n",
    "                date_labels='%H:%M:%S'\n",
    "                ) + \\\n",
    "            pn.geoms.geom_vline(\n",
    "                xintercept=eq_dt,\n",
    "                color='crimson'\n",
    "                ) + \\\n",
    "            pn.labels.ggtitle(\n",
    "                'device {}, axis {}'.format(\n",
    "                      device_id, axis)\n",
    "                      )\n",
    "                )\n",
    "    \n",
    "    # Now output the plots    \n",
    "    for p in plots:\n",
    "        print(p)"
   ]
  },
  {
   "cell_type": "code",
   "execution_count": 20,
   "id": "ad91f486-6eb9-4483-b9eb-153231ca4e61",
   "metadata": {},
   "outputs": [
    {
     "data": {
      "image/png": "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\n",
      "text/plain": [
       "<Figure size 640x480 with 1 Axes>"
      ]
     },
     "metadata": {},
     "output_type": "display_data"
    },
    {
     "name": "stdout",
     "output_type": "stream",
     "text": [
      "\n"
     ]
    },
    {
     "data": {
      "image/png": "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\n",
      "text/plain": [
       "<Figure size 640x480 with 1 Axes>"
      ]
     },
     "metadata": {},
     "output_type": "display_data"
    },
    {
     "name": "stdout",
     "output_type": "stream",
     "text": [
      "\n"
     ]
    },
    {
     "data": {
      "image/png": "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\n",
      "text/plain": [
       "<Figure size 640x480 with 1 Axes>"
      ]
     },
     "metadata": {},
     "output_type": "display_data"
    },
    {
     "name": "stdout",
     "output_type": "stream",
     "text": [
      "\n"
     ]
    }
   ],
   "source": [
    "plot_seismograms('1003')"
   ]
  },
  {
   "cell_type": "code",
   "execution_count": null,
   "id": "f0c19129-c20b-48eb-81c7-3c22b3536a82",
   "metadata": {},
   "outputs": [],
   "source": [
    "# tutorial about posting on Twitter with python\n",
    "# https://www.mattcrampton.com/blog/step_by_step_tutorial_to_post_to_twitter_using_python/"
    "# idea from https://blog.grillo.io/analyzing-a-magnitude-7-2-earthquake-in-mexico-using-python-6272a4ff63e3"
   ]
  }
 ],
 "metadata": {
  "kernelspec": {
   "display_name": "default:Python",
   "language": "python",
   "name": "conda-env-default-py"
  },
  "language_info": {
   "codemirror_mode": {
    "name": "ipython",
    "version": 3
   },
   "file_extension": ".py",
   "mimetype": "text/x-python",
   "name": "python",
   "nbconvert_exporter": "python",
   "pygments_lexer": "ipython3",
   "version": "3.9.12"
  }
 },
 "nbformat": 4,
 "nbformat_minor": 5
}
